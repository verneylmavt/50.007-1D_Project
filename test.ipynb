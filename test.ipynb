{
 "cells": [
  {
   "cell_type": "code",
   "execution_count": 2,
   "metadata": {},
   "outputs": [],
   "source": [
    "import numpy as np\n",
    "import pandas as pd\n",
    "import matplotlib.pyplot as\tplt\n",
    "import seaborn as sns"
   ]
  },
  {
   "cell_type": "code",
   "execution_count": 2,
   "metadata": {},
   "outputs": [
    {
     "name": "stdout",
     "output_type": "stream",
     "text": [
      "['hello', 'world']\n"
     ]
    }
   ],
   "source": [
    "a = \"hello world\"\n",
    "print(a.split())"
   ]
  },
  {
   "cell_type": "code",
   "execution_count": 3,
   "metadata": {},
   "outputs": [
    {
     "name": "stdout",
     "output_type": "stream",
     "text": [
      "[0 1 2 3 4 5 6 7 8 9]\n",
      "(array([0, 1, 2, 3, 4], dtype=int64),)\n"
     ]
    }
   ],
   "source": [
    "a = np.arange(10)\n",
    "print(a)\n",
    "b = np.where(a < 5)\n",
    "print(b)"
   ]
  },
  {
   "cell_type": "code",
   "execution_count": 22,
   "metadata": {},
   "outputs": [
    {
     "name": "stdout",
     "output_type": "stream",
     "text": [
      "   0\n",
      "0  1\n",
      "1  2\n",
      "2  3\n",
      "3  4\n",
      "   0\n",
      "0  1\n",
      "1  2\n",
      "2  3\n",
      "3  4\n",
      "4\n",
      "[0, 1, 2, 3]\n"
     ]
    }
   ],
   "source": [
    "s = pd.DataFrame([1,2,3,4])\n",
    "print(s)\n",
    "condition = (s.squeeze())[:] < 10\n",
    "ss = s[condition]\n",
    "print(ss)\n",
    "print(len(ss))\n",
    "print(ss.index.to_list())"
   ]
  },
  {
   "cell_type": "code",
   "execution_count": 31,
   "metadata": {},
   "outputs": [
    {
     "name": "stdout",
     "output_type": "stream",
     "text": [
      "   Column 1 Column 2\n",
      "2         3        c\n",
      "['c']\n"
     ]
    }
   ],
   "source": [
    "data = {'Column 1': [1, 2, 3, 4, 5],\n",
    "        'Column 2': ['a', 'b', 'c', 'd', 'e']}\n",
    "df = pd.DataFrame(data)\n",
    "\n",
    "# Select rows based on a condition\n",
    "condition = df['Column 1'] == 3\n",
    "new_df = df[condition]\n",
    "print(new_df)\n",
    "print(new_df[\"Column 2\"].values)"
   ]
  },
  {
   "cell_type": "code",
   "execution_count": 23,
   "metadata": {},
   "outputs": [
    {
     "name": "stdout",
     "output_type": "stream",
     "text": [
      "[[1, 2], [2], [0, 1, 2, 3]]\n"
     ]
    }
   ],
   "source": [
    "a = [[1,2], [2]]\n",
    "print(a+[ss.index.to_list()])"
   ]
  },
  {
   "cell_type": "code",
   "execution_count": 5,
   "metadata": {},
   "outputs": [
    {
     "name": "stdout",
     "output_type": "stream",
     "text": [
      "[1, 1, 1, 1, 1]\n"
     ]
    }
   ],
   "source": [
    "# Assuming this is your DataFrame\n",
    "df = pd.DataFrame({\n",
    "    'col1': range(1, 21),\n",
    "    'col2': ['A', 'B', 'C', 'D'] * 5,  # repeat 'A', 'B', 'C', 'D' five times\n",
    "    'zeros': [1 if i % 4 == 0 else 0 for i in range(1, 21)]  # 1 every 4 rows, else 0\n",
    "})\n",
    "\n",
    "sums = [df.iloc[i:i+4]['zeros'].sum() for i in range(0, len(df), 4)]\n",
    "print(sums)\n"
   ]
  },
  {
   "cell_type": "code",
   "execution_count": 10,
   "metadata": {},
   "outputs": [
    {
     "name": "stdout",
     "output_type": "stream",
     "text": [
      "Original array: ['Hello' 'world']\n",
      "New array: ['Hello' 'world' '!']\n"
     ]
    }
   ],
   "source": [
    "import numpy as np\n",
    "\n",
    "# Original ndarray\n",
    "original_array = np.array(['Hello', 'world'])\n",
    "\n",
    "# Create new array by appending '!' to the original array\n",
    "new_array = np.append(original_array, '!')\n",
    "\n",
    "print(\"Original array:\", original_array)\n",
    "print(\"New array:\", new_array)\n"
   ]
  },
  {
   "cell_type": "code",
   "execution_count": 15,
   "metadata": {},
   "outputs": [
    {
     "ename": "ValueError",
     "evalue": "All arrays must be of the same length",
     "output_type": "error",
     "traceback": [
      "\u001b[1;31m---------------------------------------------------------------------------\u001b[0m",
      "\u001b[1;31mValueError\u001b[0m                                Traceback (most recent call last)",
      "\u001b[1;32md:\\Ephyrus\\VS Source Code\\50.007\\1D Project\\test.ipynb Cell 9\u001b[0m in \u001b[0;36m1\n\u001b[0;32m     <a href='vscode-notebook-cell:/d%3A/Ephyrus/VS%20Source%20Code/50.007/1D%20Project/test.ipynb#X11sZmlsZQ%3D%3D?line=12'>13</a>\u001b[0m     \u001b[39mreturn\u001b[39;00m emit_prob\n\u001b[0;32m     <a href='vscode-notebook-cell:/d%3A/Ephyrus/VS%20Source%20Code/50.007/1D%20Project/test.ipynb#X11sZmlsZQ%3D%3D?line=14'>15</a>\u001b[0m \u001b[39m# Assuming df is your DataFrame\u001b[39;00m\n\u001b[1;32m---> <a href='vscode-notebook-cell:/d%3A/Ephyrus/VS%20Source%20Code/50.007/1D%20Project/test.ipynb#X11sZmlsZQ%3D%3D?line=15'>16</a>\u001b[0m df \u001b[39m=\u001b[39m pd\u001b[39m.\u001b[39;49mDataFrame({\n\u001b[0;32m     <a href='vscode-notebook-cell:/d%3A/Ephyrus/VS%20Source%20Code/50.007/1D%20Project/test.ipynb#X11sZmlsZQ%3D%3D?line=16'>17</a>\u001b[0m     \u001b[39m'\u001b[39;49m\u001b[39mIndex\u001b[39;49m\u001b[39m'\u001b[39;49m: \u001b[39mlist\u001b[39;49m(\u001b[39mrange\u001b[39;49m(\u001b[39m81\u001b[39;49m)),\n\u001b[0;32m     <a href='vscode-notebook-cell:/d%3A/Ephyrus/VS%20Source%20Code/50.007/1D%20Project/test.ipynb#X11sZmlsZQ%3D%3D?line=17'>18</a>\u001b[0m     \u001b[39m'\u001b[39;49m\u001b[39mToken\u001b[39;49m\u001b[39m'\u001b[39;49m: np\u001b[39m.\u001b[39;49mrepeat([\u001b[39m'\u001b[39;49m\u001b[39mEstuvimos\u001b[39;49m\u001b[39m'\u001b[39;49m, \u001b[39m'\u001b[39;49m\u001b[39mhace\u001b[39;49m\u001b[39m'\u001b[39;49m, \u001b[39m'\u001b[39;49m\u001b[39mpoco\u001b[39;49m\u001b[39m'\u001b[39;49m, \u001b[39m'\u001b[39;49m\u001b[39mmi\u001b[39;49m\u001b[39m'\u001b[39;49m, \u001b[39m'\u001b[39;49m\u001b[39mpareja\u001b[39;49m\u001b[39m'\u001b[39;49m, \u001b[39m'\u001b[39;49m\u001b[39my\u001b[39;49m\u001b[39m'\u001b[39;49m, \u001b[39m'\u001b[39;49m\u001b[39myo\u001b[39;49m\u001b[39m'\u001b[39;49m, \u001b[39m'\u001b[39;49m\u001b[39mcomiendo\u001b[39;49m\u001b[39m'\u001b[39;49m, \u001b[39m'\u001b[39;49m\u001b[39my\u001b[39;49m\u001b[39m'\u001b[39;49m, \u001b[39m'\u001b[39;49m\u001b[39mresultó\u001b[39;49m\u001b[39m'\u001b[39;49m, \u001b[39m'\u001b[39;49m\u001b[39mtodo\u001b[39;49m\u001b[39m'\u001b[39;49m], \u001b[39m7\u001b[39;49m),\n\u001b[0;32m     <a href='vscode-notebook-cell:/d%3A/Ephyrus/VS%20Source%20Code/50.007/1D%20Project/test.ipynb#X11sZmlsZQ%3D%3D?line=18'>19</a>\u001b[0m     \u001b[39m'\u001b[39;49m\u001b[39mLabel\u001b[39;49m\u001b[39m'\u001b[39;49m: [\u001b[39m'\u001b[39;49m\u001b[39mO\u001b[39;49m\u001b[39m'\u001b[39;49m, \u001b[39m'\u001b[39;49m\u001b[39mB-positive\u001b[39;49m\u001b[39m'\u001b[39;49m, \u001b[39m'\u001b[39;49m\u001b[39mB-negative\u001b[39;49m\u001b[39m'\u001b[39;49m, \u001b[39m'\u001b[39;49m\u001b[39mB-neutral\u001b[39;49m\u001b[39m'\u001b[39;49m, \u001b[39m'\u001b[39;49m\u001b[39mI-neutral\u001b[39;49m\u001b[39m'\u001b[39;49m, \u001b[39m'\u001b[39;49m\u001b[39mI-positive\u001b[39;49m\u001b[39m'\u001b[39;49m, \u001b[39m'\u001b[39;49m\u001b[39mI-negative\u001b[39;49m\u001b[39m'\u001b[39;49m]\u001b[39m*\u001b[39;49m\u001b[39m11\u001b[39;49m,\n\u001b[0;32m     <a href='vscode-notebook-cell:/d%3A/Ephyrus/VS%20Source%20Code/50.007/1D%20Project/test.ipynb#X11sZmlsZQ%3D%3D?line=19'>20</a>\u001b[0m     \u001b[39m'\u001b[39;49m\u001b[39me(x|y)\u001b[39;49m\u001b[39m'\u001b[39;49m: [\u001b[39m0.000207\u001b[39;49m, \u001b[39m0.000000\u001b[39;49m, \u001b[39m0.000000\u001b[39;49m, \u001b[39m0.000000\u001b[39;49m, \u001b[39m0.000000\u001b[39;49m, \u001b[39m0.000000\u001b[39;49m, \u001b[39m0.000000\u001b[39;49m]\u001b[39m*\u001b[39;49m\u001b[39m11\u001b[39;49m\n\u001b[0;32m     <a href='vscode-notebook-cell:/d%3A/Ephyrus/VS%20Source%20Code/50.007/1D%20Project/test.ipynb#X11sZmlsZQ%3D%3D?line=20'>21</a>\u001b[0m })\n\u001b[0;32m     <a href='vscode-notebook-cell:/d%3A/Ephyrus/VS%20Source%20Code/50.007/1D%20Project/test.ipynb#X11sZmlsZQ%3D%3D?line=22'>23</a>\u001b[0m emit_prob \u001b[39m=\u001b[39m create_emit_prob(df)\n\u001b[0;32m     <a href='vscode-notebook-cell:/d%3A/Ephyrus/VS%20Source%20Code/50.007/1D%20Project/test.ipynb#X11sZmlsZQ%3D%3D?line=23'>24</a>\u001b[0m \u001b[39mprint\u001b[39m(emit_prob)\n",
      "File \u001b[1;32mc:\\Users\\Ephyrus\\anaconda3\\lib\\site-packages\\pandas\\core\\frame.py:636\u001b[0m, in \u001b[0;36mDataFrame.__init__\u001b[1;34m(self, data, index, columns, dtype, copy)\u001b[0m\n\u001b[0;32m    630\u001b[0m     mgr \u001b[39m=\u001b[39m \u001b[39mself\u001b[39m\u001b[39m.\u001b[39m_init_mgr(\n\u001b[0;32m    631\u001b[0m         data, axes\u001b[39m=\u001b[39m{\u001b[39m\"\u001b[39m\u001b[39mindex\u001b[39m\u001b[39m\"\u001b[39m: index, \u001b[39m\"\u001b[39m\u001b[39mcolumns\u001b[39m\u001b[39m\"\u001b[39m: columns}, dtype\u001b[39m=\u001b[39mdtype, copy\u001b[39m=\u001b[39mcopy\n\u001b[0;32m    632\u001b[0m     )\n\u001b[0;32m    634\u001b[0m \u001b[39melif\u001b[39;00m \u001b[39misinstance\u001b[39m(data, \u001b[39mdict\u001b[39m):\n\u001b[0;32m    635\u001b[0m     \u001b[39m# GH#38939 de facto copy defaults to False only in non-dict cases\u001b[39;00m\n\u001b[1;32m--> 636\u001b[0m     mgr \u001b[39m=\u001b[39m dict_to_mgr(data, index, columns, dtype\u001b[39m=\u001b[39;49mdtype, copy\u001b[39m=\u001b[39;49mcopy, typ\u001b[39m=\u001b[39;49mmanager)\n\u001b[0;32m    637\u001b[0m \u001b[39melif\u001b[39;00m \u001b[39misinstance\u001b[39m(data, ma\u001b[39m.\u001b[39mMaskedArray):\n\u001b[0;32m    638\u001b[0m     \u001b[39mimport\u001b[39;00m \u001b[39mnumpy\u001b[39;00m\u001b[39m.\u001b[39;00m\u001b[39mma\u001b[39;00m\u001b[39m.\u001b[39;00m\u001b[39mmrecords\u001b[39;00m \u001b[39mas\u001b[39;00m \u001b[39mmrecords\u001b[39;00m\n",
      "File \u001b[1;32mc:\\Users\\Ephyrus\\anaconda3\\lib\\site-packages\\pandas\\core\\internals\\construction.py:502\u001b[0m, in \u001b[0;36mdict_to_mgr\u001b[1;34m(data, index, columns, dtype, typ, copy)\u001b[0m\n\u001b[0;32m    494\u001b[0m     arrays \u001b[39m=\u001b[39m [\n\u001b[0;32m    495\u001b[0m         x\n\u001b[0;32m    496\u001b[0m         \u001b[39mif\u001b[39;00m \u001b[39mnot\u001b[39;00m \u001b[39mhasattr\u001b[39m(x, \u001b[39m\"\u001b[39m\u001b[39mdtype\u001b[39m\u001b[39m\"\u001b[39m) \u001b[39mor\u001b[39;00m \u001b[39mnot\u001b[39;00m \u001b[39misinstance\u001b[39m(x\u001b[39m.\u001b[39mdtype, ExtensionDtype)\n\u001b[0;32m    497\u001b[0m         \u001b[39melse\u001b[39;00m x\u001b[39m.\u001b[39mcopy()\n\u001b[0;32m    498\u001b[0m         \u001b[39mfor\u001b[39;00m x \u001b[39min\u001b[39;00m arrays\n\u001b[0;32m    499\u001b[0m     ]\n\u001b[0;32m    500\u001b[0m     \u001b[39m# TODO: can we get rid of the dt64tz special case above?\u001b[39;00m\n\u001b[1;32m--> 502\u001b[0m \u001b[39mreturn\u001b[39;00m arrays_to_mgr(arrays, columns, index, dtype\u001b[39m=\u001b[39;49mdtype, typ\u001b[39m=\u001b[39;49mtyp, consolidate\u001b[39m=\u001b[39;49mcopy)\n",
      "File \u001b[1;32mc:\\Users\\Ephyrus\\anaconda3\\lib\\site-packages\\pandas\\core\\internals\\construction.py:120\u001b[0m, in \u001b[0;36marrays_to_mgr\u001b[1;34m(arrays, columns, index, dtype, verify_integrity, typ, consolidate)\u001b[0m\n\u001b[0;32m    117\u001b[0m \u001b[39mif\u001b[39;00m verify_integrity:\n\u001b[0;32m    118\u001b[0m     \u001b[39m# figure out the index, if necessary\u001b[39;00m\n\u001b[0;32m    119\u001b[0m     \u001b[39mif\u001b[39;00m index \u001b[39mis\u001b[39;00m \u001b[39mNone\u001b[39;00m:\n\u001b[1;32m--> 120\u001b[0m         index \u001b[39m=\u001b[39m _extract_index(arrays)\n\u001b[0;32m    121\u001b[0m     \u001b[39melse\u001b[39;00m:\n\u001b[0;32m    122\u001b[0m         index \u001b[39m=\u001b[39m ensure_index(index)\n",
      "File \u001b[1;32mc:\\Users\\Ephyrus\\anaconda3\\lib\\site-packages\\pandas\\core\\internals\\construction.py:674\u001b[0m, in \u001b[0;36m_extract_index\u001b[1;34m(data)\u001b[0m\n\u001b[0;32m    672\u001b[0m lengths \u001b[39m=\u001b[39m \u001b[39mlist\u001b[39m(\u001b[39mset\u001b[39m(raw_lengths))\n\u001b[0;32m    673\u001b[0m \u001b[39mif\u001b[39;00m \u001b[39mlen\u001b[39m(lengths) \u001b[39m>\u001b[39m \u001b[39m1\u001b[39m:\n\u001b[1;32m--> 674\u001b[0m     \u001b[39mraise\u001b[39;00m \u001b[39mValueError\u001b[39;00m(\u001b[39m\"\u001b[39m\u001b[39mAll arrays must be of the same length\u001b[39m\u001b[39m\"\u001b[39m)\n\u001b[0;32m    676\u001b[0m \u001b[39mif\u001b[39;00m have_dicts:\n\u001b[0;32m    677\u001b[0m     \u001b[39mraise\u001b[39;00m \u001b[39mValueError\u001b[39;00m(\n\u001b[0;32m    678\u001b[0m         \u001b[39m\"\u001b[39m\u001b[39mMixing dicts with non-Series may lead to ambiguous ordering.\u001b[39m\u001b[39m\"\u001b[39m\n\u001b[0;32m    679\u001b[0m     )\n",
      "\u001b[1;31mValueError\u001b[0m: All arrays must be of the same length"
     ]
    }
   ],
   "source": [
    "import pandas as pd\n",
    "import numpy as np\n",
    "\n",
    "def create_emit_prob(df):\n",
    "    emit_prob = {}\n",
    "    for index, row in df.iterrows():\n",
    "        label = row['Label']\n",
    "        token = row['Token']\n",
    "        prob = row['e(x|y)']\n",
    "        if label not in emit_prob:\n",
    "            emit_prob[label] = {}\n",
    "        emit_prob[label][token] = prob\n",
    "    return emit_prob\n",
    "\n",
    "# Assuming df is your DataFrame\n",
    "df = pd.DataFrame({\n",
    "    'Index': list(range(81)),\n",
    "    'Token': np.repeat(['Estuvimos', 'hace', 'poco', 'mi', 'pareja', 'y', 'yo', 'comiendo', 'y', 'resultó', 'todo'], 7),\n",
    "    'Label': ['O', 'B-positive', 'B-negative', 'B-neutral', 'I-neutral', 'I-positive', 'I-negative']*11,\n",
    "    'e(x|y)': [0.000207, 0.000000, 0.000000, 0.000000, 0.000000, 0.000000, 0.000000]*11\n",
    "})\n",
    "\n",
    "emit_prob = create_emit_prob(df)\n",
    "print(emit_prob)\n"
   ]
  },
  {
   "cell_type": "code",
   "execution_count": 1,
   "metadata": {},
   "outputs": [
    {
     "name": "stdout",
     "output_type": "stream",
     "text": [
      "['B-negative', 'I-negative', 'O', 'O', 'O', 'O', 'O', 'O', 'O', 'O', 'O', 'O', 'O', '']\n"
     ]
    }
   ],
   "source": [
    "my_list = ['B-negative', 'I-negative', 'O', 'O', 'O', 'O', 'O', 'O', 'O', 'O', 'O', 'O', 'O']\n",
    "my_list = my_list + [\"\"]\n",
    "print(my_list)\n"
   ]
  },
  {
   "cell_type": "code",
   "execution_count": 9,
   "metadata": {},
   "outputs": [
    {
     "ename": "KeyError",
     "evalue": "'d'",
     "output_type": "error",
     "traceback": [
      "\u001b[1;31m---------------------------------------------------------------------------\u001b[0m",
      "\u001b[1;31mKeyError\u001b[0m                                  Traceback (most recent call last)",
      "\u001b[1;32md:\\Ephyrus\\VS Source Code\\50.007\\1D Project\\test.ipynb Cell 11\u001b[0m in \u001b[0;36m4\n\u001b[0;32m      <a href='vscode-notebook-cell:/d%3A/Ephyrus/VS%20Source%20Code/50.007/1D%20Project/test.ipynb#X13sZmlsZQ%3D%3D?line=0'>1</a>\u001b[0m keys \u001b[39m=\u001b[39m [\u001b[39m'\u001b[39m\u001b[39ma\u001b[39m\u001b[39m'\u001b[39m, \u001b[39m'\u001b[39m\u001b[39mb\u001b[39m\u001b[39m'\u001b[39m, \u001b[39m'\u001b[39m\u001b[39mc\u001b[39m\u001b[39m'\u001b[39m]\n\u001b[0;32m      <a href='vscode-notebook-cell:/d%3A/Ephyrus/VS%20Source%20Code/50.007/1D%20Project/test.ipynb#X13sZmlsZQ%3D%3D?line=1'>2</a>\u001b[0m dictionary \u001b[39m=\u001b[39m {key: [\u001b[39m'\u001b[39m\u001b[39m'\u001b[39m] \u001b[39mfor\u001b[39;00m key \u001b[39min\u001b[39;00m keys}\n\u001b[1;32m----> <a href='vscode-notebook-cell:/d%3A/Ephyrus/VS%20Source%20Code/50.007/1D%20Project/test.ipynb#X13sZmlsZQ%3D%3D?line=3'>4</a>\u001b[0m dictionary[\u001b[39m'\u001b[39m\u001b[39md\u001b[39m\u001b[39m'\u001b[39m] \u001b[39m=\u001b[39m dictionary[\u001b[39m'\u001b[39;49m\u001b[39md\u001b[39;49m\u001b[39m'\u001b[39;49m] \u001b[39m+\u001b[39m [\u001b[39m1\u001b[39m,\u001b[39m2\u001b[39m,\u001b[39m4\u001b[39m]\n\u001b[0;32m      <a href='vscode-notebook-cell:/d%3A/Ephyrus/VS%20Source%20Code/50.007/1D%20Project/test.ipynb#X13sZmlsZQ%3D%3D?line=4'>5</a>\u001b[0m \u001b[39mprint\u001b[39m(dictionary)\n",
      "\u001b[1;31mKeyError\u001b[0m: 'd'"
     ]
    }
   ],
   "source": [
    "keys = ['a', 'b', 'c']\n",
    "dictionary = {key: [''] for key in keys}\n",
    "\n",
    "dictionary['d'] = dictionary['d'] + [1,2,4]\n",
    "print(dictionary)\n"
   ]
  },
  {
   "cell_type": "code",
   "execution_count": null,
   "metadata": {},
   "outputs": [],
   "source": [
    "a = ([],[])\n",
    "print"
   ]
  },
  {
   "cell_type": "code",
   "execution_count": 2,
   "metadata": {},
   "outputs": [
    {
     "name": "stdout",
     "output_type": "stream",
     "text": [
      "{'I': 'O', 'g': 'B-positive', 'ng': 'B-positive', 'ing': 'B-positive', 'y': 'O', 'ly': 'O', 'ily': 'O', 's': 'B-negative', 'us': 'B-negative', 'ous': 'B-negative'}\n"
     ]
    }
   ],
   "source": [
    "from collections import defaultdict\n",
    "\n",
    "def generate_suffix_probs(training_data, max_suffix_length=3):\n",
    "    suffix_tag_counts = defaultdict(lambda: defaultdict(int))\n",
    "    suffix_probs = {}\n",
    "\n",
    "    # Count suffix-tag pairs\n",
    "    for word, tag in training_data:\n",
    "        for i in range(1, max_suffix_length + 1):\n",
    "            suffix = word[-i:]\n",
    "            suffix_tag_counts[suffix][tag] += 1\n",
    "\n",
    "    # Determine most common tag for each suffix\n",
    "    for suffix, tag_counts in suffix_tag_counts.items():\n",
    "        most_common_tag = max(tag_counts, key=tag_counts.get)\n",
    "        suffix_probs[suffix] = most_common_tag\n",
    "\n",
    "    return suffix_probs\n",
    "\n",
    "# Sample Usage\n",
    "# Assuming training_data is a list of tuples with word and tag pairs.\n",
    "training_data = [('I', 'O'), ('loving', 'B-positive'), ('happily', 'O'), ('dangerous', 'B-negative')]\n",
    "suffix_probs = generate_suffix_probs(training_data)\n",
    "print(suffix_probs)\n"
   ]
  },
  {
   "cell_type": "code",
   "execution_count": 1,
   "metadata": {},
   "outputs": [
    {
     "name": "stdout",
     "output_type": "stream",
     "text": [
      "[('Estuvimos', 'O'), ('hace', 'O'), ('poco', 'O'), ('mi', 'O'), ('pareja', 'O'), ('junto', 'O'), ('con', 'O'), ('la', 'O'), ('carta', 'O'), ('.', 'O')]\n"
     ]
    }
   ],
   "source": [
    "import pandas as pd\n",
    "\n",
    "def dataframe_to_list(df):\n",
    "    return [(token, label) for token, label in zip(df['Token'], df['Label'])]\n",
    "\n",
    "# Example usage:\n",
    "data = {\n",
    "    'Token': ['Estuvimos', 'hace', 'poco', 'mi', 'pareja', 'junto', 'con', 'la', 'carta', '.'],\n",
    "    'Label': ['O', 'O', 'O', 'O', 'O', 'O', 'O', 'O', 'O', 'O']\n",
    "}\n",
    "df = pd.DataFrame(data)\n",
    "result = dataframe_to_list(df)\n",
    "print(result)\n"
   ]
  }
 ],
 "metadata": {
  "kernelspec": {
   "display_name": "base",
   "language": "python",
   "name": "python3"
  },
  "language_info": {
   "codemirror_mode": {
    "name": "ipython",
    "version": 3
   },
   "file_extension": ".py",
   "mimetype": "text/x-python",
   "name": "python",
   "nbconvert_exporter": "python",
   "pygments_lexer": "ipython3",
   "version": "3.9.13"
  },
  "orig_nbformat": 4
 },
 "nbformat": 4,
 "nbformat_minor": 2
}
