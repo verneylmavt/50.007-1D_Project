{
 "cells": [
  {
   "cell_type": "code",
   "execution_count": 2,
   "metadata": {},
   "outputs": [],
   "source": [
    "import numpy as np\n",
    "import pandas as pd\n",
    "import matplotlib.pyplot as\tplt\n",
    "import seaborn as sns"
   ]
  },
  {
   "cell_type": "code",
   "execution_count": 2,
   "metadata": {},
   "outputs": [
    {
     "name": "stdout",
     "output_type": "stream",
     "text": [
      "['hello', 'world']\n"
     ]
    }
   ],
   "source": [
    "a = \"hello world\"\n",
    "print(a.split())"
   ]
  },
  {
   "cell_type": "code",
   "execution_count": 3,
   "metadata": {},
   "outputs": [
    {
     "name": "stdout",
     "output_type": "stream",
     "text": [
      "[0 1 2 3 4 5 6 7 8 9]\n",
      "(array([0, 1, 2, 3, 4], dtype=int64),)\n"
     ]
    }
   ],
   "source": [
    "a = np.arange(10)\n",
    "print(a)\n",
    "b = np.where(a < 5)\n",
    "print(b)"
   ]
  },
  {
   "cell_type": "code",
   "execution_count": 22,
   "metadata": {},
   "outputs": [
    {
     "name": "stdout",
     "output_type": "stream",
     "text": [
      "   0\n",
      "0  1\n",
      "1  2\n",
      "2  3\n",
      "3  4\n",
      "   0\n",
      "0  1\n",
      "1  2\n",
      "2  3\n",
      "3  4\n",
      "4\n",
      "[0, 1, 2, 3]\n"
     ]
    }
   ],
   "source": [
    "s = pd.DataFrame([1,2,3,4])\n",
    "print(s)\n",
    "condition = (s.squeeze())[:] < 10\n",
    "ss = s[condition]\n",
    "print(ss)\n",
    "print(len(ss))\n",
    "print(ss.index.to_list())"
   ]
  },
  {
   "cell_type": "code",
   "execution_count": 31,
   "metadata": {},
   "outputs": [
    {
     "name": "stdout",
     "output_type": "stream",
     "text": [
      "   Column 1 Column 2\n",
      "2         3        c\n",
      "['c']\n"
     ]
    }
   ],
   "source": [
    "data = {'Column 1': [1, 2, 3, 4, 5],\n",
    "        'Column 2': ['a', 'b', 'c', 'd', 'e']}\n",
    "df = pd.DataFrame(data)\n",
    "\n",
    "# Select rows based on a condition\n",
    "condition = df['Column 1'] == 3\n",
    "new_df = df[condition]\n",
    "print(new_df)\n",
    "print(new_df[\"Column 2\"].values)"
   ]
  },
  {
   "cell_type": "code",
   "execution_count": 23,
   "metadata": {},
   "outputs": [
    {
     "name": "stdout",
     "output_type": "stream",
     "text": [
      "[[1, 2], [2], [0, 1, 2, 3]]\n"
     ]
    }
   ],
   "source": [
    "a = [[1,2], [2]]\n",
    "print(a+[ss.index.to_list()])"
   ]
  },
  {
   "cell_type": "code",
   "execution_count": 5,
   "metadata": {},
   "outputs": [
    {
     "name": "stdout",
     "output_type": "stream",
     "text": [
      "[1, 1, 1, 1, 1]\n"
     ]
    }
   ],
   "source": [
    "# Assuming this is your DataFrame\n",
    "df = pd.DataFrame({\n",
    "    'col1': range(1, 21),\n",
    "    'col2': ['A', 'B', 'C', 'D'] * 5,  # repeat 'A', 'B', 'C', 'D' five times\n",
    "    'zeros': [1 if i % 4 == 0 else 0 for i in range(1, 21)]  # 1 every 4 rows, else 0\n",
    "})\n",
    "\n",
    "sums = [df.iloc[i:i+4]['zeros'].sum() for i in range(0, len(df), 4)]\n",
    "print(sums)\n"
   ]
  }
 ],
 "metadata": {
  "kernelspec": {
   "display_name": "base",
   "language": "python",
   "name": "python3"
  },
  "language_info": {
   "codemirror_mode": {
    "name": "ipython",
    "version": 3
   },
   "file_extension": ".py",
   "mimetype": "text/x-python",
   "name": "python",
   "nbconvert_exporter": "python",
   "pygments_lexer": "ipython3",
   "version": "3.9.13"
  },
  "orig_nbformat": 4
 },
 "nbformat": 4,
 "nbformat_minor": 2
}
