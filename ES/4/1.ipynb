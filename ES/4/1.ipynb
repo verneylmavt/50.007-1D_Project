{
 "cells": [
  {
   "cell_type": "code",
   "execution_count": 3,
   "metadata": {},
   "outputs": [
    {
     "name": "stderr",
     "output_type": "stream",
     "text": [
      "c:\\Users\\Ephyrus\\anaconda3\\envs\\number4\\lib\\site-packages\\tensorflow_addons\\utils\\tfa_eol_msg.py:23: UserWarning: \n",
      "\n",
      "TensorFlow Addons (TFA) has ended development and introduction of new features.\n",
      "TFA has entered a minimal maintenance and release mode until a planned end of life in May 2024.\n",
      "Please modify downstream libraries to take dependencies from other repositories in our TensorFlow community (e.g. Keras, Keras-CV, and Keras-NLP). \n",
      "\n",
      "For more information see: https://github.com/tensorflow/addons/issues/2807 \n",
      "\n",
      "  warnings.warn(\n"
     ]
    },
    {
     "ename": "AttributeError",
     "evalue": "'CRF' object has no attribute 'get_loss'",
     "output_type": "error",
     "traceback": [
      "\u001b[1;31m---------------------------------------------------------------------------\u001b[0m",
      "\u001b[1;31mAttributeError\u001b[0m                            Traceback (most recent call last)",
      "Cell \u001b[1;32mIn[3], line 42\u001b[0m\n\u001b[0;32m     39\u001b[0m out \u001b[39m=\u001b[39m crf(model)\n\u001b[0;32m     41\u001b[0m model \u001b[39m=\u001b[39m Model(\u001b[39minput\u001b[39m, out)\n\u001b[1;32m---> 42\u001b[0m model\u001b[39m.\u001b[39mcompile(optimizer\u001b[39m=\u001b[39m\u001b[39m\"\u001b[39m\u001b[39madam\u001b[39m\u001b[39m\"\u001b[39m, loss\u001b[39m=\u001b[39mcrf\u001b[39m.\u001b[39;49mget_loss, metrics\u001b[39m=\u001b[39m[crf\u001b[39m.\u001b[39mget_accuracy])\n\u001b[0;32m     43\u001b[0m model\u001b[39m.\u001b[39msummary()\n\u001b[0;32m     45\u001b[0m \u001b[39m# Train the model\u001b[39;00m\n",
      "\u001b[1;31mAttributeError\u001b[0m: 'CRF' object has no attribute 'get_loss'"
     ]
    }
   ],
   "source": [
    "import numpy as np\n",
    "import tensorflow as tf\n",
    "from tensorflow.keras.preprocessing.sequence import pad_sequences\n",
    "from tensorflow.keras.layers import LSTM, Embedding, Dense, TimeDistributed, Dropout, Bidirectional, Input\n",
    "from tensorflow.keras.models import Model\n",
    "import tensorflow_addons as tfa\n",
    "\n",
    "# Sample data\n",
    "sentences = [['I', 'love', 'this', 'phone'], ['This', 'movie', 'is', 'terrible']]\n",
    "sentence_labels = [['O', 'B-POS', 'I-POS', 'I-POS'], ['O', 'B-NEG', 'I-NEG', 'I-NEG']]\n",
    "\n",
    "# Create word and tag dictionaries for mapping\n",
    "words = list(set(word for sentence in sentences for word in sentence))\n",
    "words.append(\"ENDPAD\")\n",
    "n_words = len(words)\n",
    "tags = list(set(tag for tag_seq in sentence_labels for tag in tag_seq))\n",
    "n_tags = len(tags)\n",
    "\n",
    "word2idx = {w: i for i, w in enumerate(words)}\n",
    "tag2idx = {t: i for i, t in enumerate(tags)}\n",
    "idx2tag = {i: w for w, i in tag2idx.items()}\n",
    "\n",
    "# Convert each sentence into a sequence of numbers and pad sequences\n",
    "maxlen = max(len(s) for s in sentences)\n",
    "X_data = [[word2idx[w] for w in s] for s in sentences]\n",
    "X_data = pad_sequences(X_data, maxlen=maxlen, padding='post')\n",
    "Y_data = [[tag2idx[w] for w in s] for s in sentence_labels]\n",
    "Y_data = pad_sequences(Y_data, maxlen=maxlen, padding='post')\n",
    "\n",
    "# Build the model\n",
    "input = Input(shape=(maxlen,))\n",
    "model = Embedding(input_dim=n_words, output_dim=50, input_length=maxlen)(input)\n",
    "model = Dropout(0.1)(model)\n",
    "model = Bidirectional(LSTM(units=100, return_sequences=True, recurrent_dropout=0.1))(model)\n",
    "model = TimeDistributed(Dense(50, activation=\"relu\"))(model)\n",
    "model = TimeDistributed(Dense(n_tags))(model)\n",
    "\n",
    "crf = tfa.layers.CRF(n_tags)\n",
    "out = crf(model)\n",
    "\n",
    "model = Model(input, out)\n",
    "model.compile(optimizer=\"adam\", loss=crf.get_loss, metrics=[crf.get_accuracy])\n",
    "model.summary()\n",
    "\n",
    "# Train the model\n",
    "model.fit(X_data, Y_data, batch_size=2, epochs=5, validation_split=0.1, verbose=1)\n"
   ]
  }
 ],
 "metadata": {
  "kernelspec": {
   "display_name": "base",
   "language": "python",
   "name": "python3"
  },
  "language_info": {
   "codemirror_mode": {
    "name": "ipython",
    "version": 3
   },
   "file_extension": ".py",
   "mimetype": "text/x-python",
   "name": "python",
   "nbconvert_exporter": "python",
   "pygments_lexer": "ipython3",
   "version": "3.8.17"
  },
  "orig_nbformat": 4
 },
 "nbformat": 4,
 "nbformat_minor": 2
}
